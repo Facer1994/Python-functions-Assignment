{
 "cells": [
  {
   "cell_type": "code",
   "execution_count": 7,
   "id": "c0afa4d0",
   "metadata": {},
   "outputs": [],
   "source": [
    "def Subfields():\n",
    "    print(\"Sub-fields in AI are:\")\n",
    "    print(\"Machine Learning\")\n",
    "    print(\"Neural Networks\")\n",
    "    print(\"Vision\")\n",
    "    print(\"Robotics\")\n",
    "    print(\"Speech Processing\")\n",
    "    print(\"Natural Language Processing\")"
   ]
  },
  {
   "cell_type": "code",
   "execution_count": 8,
   "id": "a23453de",
   "metadata": {},
   "outputs": [
    {
     "name": "stdout",
     "output_type": "stream",
     "text": [
      "Sub-fields in AI are:\n",
      "Machine Learning\n",
      "Neural Networks\n",
      "Vision\n",
      "Robotics\n",
      "Speech Processing\n",
      "Natural Language Processing\n"
     ]
    }
   ],
   "source": [
    "Subfields()"
   ]
  },
  {
   "cell_type": "code",
   "execution_count": 15,
   "id": "c6049467",
   "metadata": {},
   "outputs": [],
   "source": [
    "def OddEven():\n",
    "    num= int(input(\"Enter a number: \"))\n",
    "    if((num%2)==0):\n",
    "        print(num ,\" is Even number\")\n",
    "    else:\n",
    "        print(num ,\" is Odd number\")"
   ]
  },
  {
   "cell_type": "code",
   "execution_count": 16,
   "id": "fe2b2808",
   "metadata": {},
   "outputs": [
    {
     "name": "stdout",
     "output_type": "stream",
     "text": [
      "Enter a number: 4\n",
      "4  is Even number\n"
     ]
    }
   ],
   "source": [
    "OddEven()"
   ]
  },
  {
   "cell_type": "code",
   "execution_count": 22,
   "id": "834cf574",
   "metadata": {},
   "outputs": [],
   "source": [
    "def Elegible():\n",
    "    gender='Male'\n",
    "    age= 18\n",
    "    print(\"Your Gender:\", gender)\n",
    "    print(\"Your Age:\", age)\n",
    "    if(((gender=='Male')or(gender=='Female'))and(age<20)):\n",
    "        print(\"NOT ELIGIBLE\")\n",
    "    elif(((gender=='Male')or(gender=='Female'))and(age<40)):\n",
    "        print(\"ELIGIBLE\")\n",
    "    else:\n",
    "        print(\"Please enter the valid input\")"
   ]
  },
  {
   "cell_type": "code",
   "execution_count": 23,
   "id": "08697ab3",
   "metadata": {},
   "outputs": [
    {
     "name": "stdout",
     "output_type": "stream",
     "text": [
      "Your Gender: Male\n",
      "Your Age: 18\n",
      "NOT ELIGIBLE\n"
     ]
    }
   ],
   "source": [
    "Elegible()"
   ]
  },
  {
   "cell_type": "code",
   "execution_count": 28,
   "id": "5e860603",
   "metadata": {},
   "outputs": [],
   "source": [
    "def percentage():\n",
    "    Sub1= 23\n",
    "    Sub2= 45\n",
    "    Sub3= 34\n",
    "    Sub4= 23\n",
    "    Sub5= 23\n",
    "    print(\"Subject1= \",Sub1)\n",
    "    print(\"Subject2= \",Sub2)\n",
    "    print(\"Subject3= \",Sub3)\n",
    "    print(\"Subject4= \",Sub4)\n",
    "    print(\"Subject5= \",Sub5)\n",
    "    Totalmarks= Sub1+Sub2+Sub3+Sub4+Sub5\n",
    "    print(\"Total :  \",Totalmarks)\n",
    "    percentageval= Totalmarks/5\n",
    "    print(\"Percentage : \",percentageval)"
   ]
  },
  {
   "cell_type": "code",
   "execution_count": 29,
   "id": "4a4fea53",
   "metadata": {},
   "outputs": [
    {
     "name": "stdout",
     "output_type": "stream",
     "text": [
      "Subject1=  23\n",
      "Subject2=  45\n",
      "Subject3=  34\n",
      "Subject4=  23\n",
      "Subject5=  23\n",
      "Total :   148\n",
      "Percentage :  29.6\n"
     ]
    }
   ],
   "source": [
    "percentage()"
   ]
  },
  {
   "cell_type": "code",
   "execution_count": 39,
   "id": "879b3863",
   "metadata": {},
   "outputs": [],
   "source": [
    "def triangle():\n",
    "    height=3\n",
    "    breadth=4\n",
    "    height1=3\n",
    "    height2= 4\n",
    "    breadth2=45\n",
    "    print(\"Height:\",height)\n",
    "    print(\"Breadth:\",breadth)\n",
    "    print(\"Area formula: (Height*Breadth)/2\")\n",
    "    print(\"Area of Triangle: \", (height*breadth)/2)\n",
    "    print(\"Height1:\",height1)\n",
    "    print(\"Height2:\",height2)\n",
    "    print(\"Breadth:\",breadth2)\n",
    "    print(\"Perimeter formula: Height1+Height2+Breadth\")\n",
    "    print(\"Perimeter of Triangle: \",height1+height2+breadth2)"
   ]
  },
  {
   "cell_type": "code",
   "execution_count": 40,
   "id": "697013f0",
   "metadata": {},
   "outputs": [
    {
     "name": "stdout",
     "output_type": "stream",
     "text": [
      "Height: 3\n",
      "Breadth: 4\n",
      "Area formula: (Height*Breadth)/2\n",
      "Area of Triangle:  6.0\n",
      "Height1: 3\n",
      "Height2: 4\n",
      "Breadth: 45\n",
      "Perimeter formula: Height1+Height2+Breadth\n",
      "Perimeter of Triangle:  52\n"
     ]
    }
   ],
   "source": [
    "triangle()"
   ]
  },
  {
   "cell_type": "code",
   "execution_count": null,
   "id": "b8153368",
   "metadata": {},
   "outputs": [],
   "source": []
  }
 ],
 "metadata": {
  "kernelspec": {
   "display_name": "Python 3 (ipykernel)",
   "language": "python",
   "name": "python3"
  },
  "language_info": {
   "codemirror_mode": {
    "name": "ipython",
    "version": 3
   },
   "file_extension": ".py",
   "mimetype": "text/x-python",
   "name": "python",
   "nbconvert_exporter": "python",
   "pygments_lexer": "ipython3",
   "version": "3.9.7"
  }
 },
 "nbformat": 4,
 "nbformat_minor": 5
}
